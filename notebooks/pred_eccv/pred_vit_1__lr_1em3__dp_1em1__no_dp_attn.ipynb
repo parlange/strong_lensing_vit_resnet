{
 "cells": [
  {
   "cell_type": "code",
   "execution_count": 1,
   "id": "0770f12c",
   "metadata": {},
   "outputs": [
    {
     "name": "stdout",
     "output_type": "stream",
     "text": [
      "C:\\Users\\abcd2\\OneDrive\\Documents\\GitHub\\strong_lensing_vit_resnet\n"
     ]
    }
   ],
   "source": [
    "cd ../.."
   ]
  },
  {
   "cell_type": "code",
   "execution_count": 2,
   "id": "0fca60c7",
   "metadata": {},
   "outputs": [],
   "source": [
    "import numpy as np\n",
    "\n",
    "from pathlib import Path\n",
    "from predict import ModelPredictor"
   ]
  },
  {
   "cell_type": "code",
   "execution_count": 3,
   "id": "dc32ebb4",
   "metadata": {},
   "outputs": [
    {
     "data": {
      "text/plain": [
       "{'epoch': 100,\n",
       " 'batch_size': 20,\n",
       " 'load_new_model': True,\n",
       " 'new_model_name': 'google/vit-base-patch16-224',\n",
       " 'resumed_model_path': WindowsPath('.'),\n",
       " 'output_folder': WindowsPath('C:/Users/abcd2/Downloads/vit_1__lr_1em3__dp_1em1__no_dp_attn'),\n",
       " 'dataset_folder': WindowsPath('C:/Users/abcd2/Datasets/2022_icml_lens_sim/geoff_1200'),\n",
       " 'init_learning_rate': 0.001,\n",
       " 'dropout_rate': 0.1,\n",
       " 'vit_attention_dropout_rate': 0.0,\n",
       " 'target_keys_weights': {'theta_E': 1,\n",
       "  'gamma': 1,\n",
       "  'center_x': 1,\n",
       "  'center_y': 1,\n",
       "  'e1': 1,\n",
       "  'e2': 1,\n",
       "  'lens_light_R_sersic': 1,\n",
       "  'lens_light_n_sersic': 1}}"
      ]
     },
     "execution_count": 3,
     "metadata": {},
     "output_type": "execute_result"
    }
   ],
   "source": [
    "dir_output = Path(\"C:/Users/abcd2/Downloads/vit_1__lr_1em3__dp_1em1__no_dp_attn\")\n",
    "path_config = Path(f\"{dir_output}/CONFIG.npy\")\n",
    "path_model = Path(f\"{dir_output}/epoch_41_testloss_0.200887.mdl\")\n",
    "file_name_pred = \"pred_scaled\"\n",
    "\n",
    "\n",
    "CONFIG = np.load(path_config, allow_pickle=True).item()\n",
    "CONFIG[\"dataset_folder\"] = Path(\"C:/Users/abcd2/Datasets/2022_icml_lens_sim/geoff_1200\")\n",
    "\n",
    "CONFIG"
   ]
  },
  {
   "cell_type": "code",
   "execution_count": 4,
   "id": "d8e0ac40",
   "metadata": {},
   "outputs": [
    {
     "name": "stdout",
     "output_type": "stream",
     "text": [
      "Number of test samples = 1200\n",
      " \n",
      "Use device = cuda:0\n",
      "\n",
      "Start predicting\n",
      "\n"
     ]
    },
    {
     "name": "stderr",
     "output_type": "stream",
     "text": [
      "100%|██████████████████████████████████████████████████████████████████████████████████| 60/60 [00:27<00:00,  2.17it/s]"
     ]
    },
    {
     "name": "stdout",
     "output_type": "stream",
     "text": [
      "Done :)\n",
      "\n"
     ]
    },
    {
     "name": "stderr",
     "output_type": "stream",
     "text": [
      "\n"
     ]
    },
    {
     "data": {
      "text/plain": [
       "<predict.ModelPredictor at 0x2a2c3041d60>"
      ]
     },
     "execution_count": 4,
     "metadata": {},
     "output_type": "execute_result"
    }
   ],
   "source": [
    "ModelPredictor(CONFIG, path_model, file_name_pred)"
   ]
  },
  {
   "cell_type": "code",
   "execution_count": null,
   "id": "85168fb1",
   "metadata": {},
   "outputs": [],
   "source": []
  },
  {
   "cell_type": "code",
   "execution_count": 5,
   "id": "2896ad52",
   "metadata": {},
   "outputs": [
    {
     "name": "stdout",
     "output_type": "stream",
     "text": [
      "Populating the interactive namespace from numpy and matplotlib\n"
     ]
    },
    {
     "data": {
      "text/html": [
       "<div>\n",
       "<style scoped>\n",
       "    .dataframe tbody tr th:only-of-type {\n",
       "        vertical-align: middle;\n",
       "    }\n",
       "\n",
       "    .dataframe tbody tr th {\n",
       "        vertical-align: top;\n",
       "    }\n",
       "\n",
       "    .dataframe thead th {\n",
       "        text-align: right;\n",
       "    }\n",
       "</style>\n",
       "<table border=\"1\" class=\"dataframe\">\n",
       "  <thead>\n",
       "    <tr style=\"text-align: right;\">\n",
       "      <th></th>\n",
       "      <th>theta_E____truth</th>\n",
       "      <th>gamma____truth</th>\n",
       "      <th>center_x____truth</th>\n",
       "      <th>center_y____truth</th>\n",
       "      <th>e1____truth</th>\n",
       "      <th>e2____truth</th>\n",
       "      <th>lens_light_R_sersic____truth</th>\n",
       "      <th>lens_light_n_sersic____truth</th>\n",
       "      <th>theta_E____pred</th>\n",
       "      <th>gamma____pred</th>\n",
       "      <th>...</th>\n",
       "      <th>lens_light_R_sersic____pred</th>\n",
       "      <th>lens_light_n_sersic____pred</th>\n",
       "      <th>theta_E____sigma</th>\n",
       "      <th>gamma____sigma</th>\n",
       "      <th>center_x____sigma</th>\n",
       "      <th>center_y____sigma</th>\n",
       "      <th>e1____sigma</th>\n",
       "      <th>e2____sigma</th>\n",
       "      <th>lens_light_R_sersic____sigma</th>\n",
       "      <th>lens_light_n_sersic____sigma</th>\n",
       "    </tr>\n",
       "  </thead>\n",
       "  <tbody>\n",
       "    <tr>\n",
       "      <th>0</th>\n",
       "      <td>-1.370978</td>\n",
       "      <td>-0.545854</td>\n",
       "      <td>-1.067575</td>\n",
       "      <td>1.431359</td>\n",
       "      <td>0.188527</td>\n",
       "      <td>-1.213736</td>\n",
       "      <td>-0.763033</td>\n",
       "      <td>-0.155175</td>\n",
       "      <td>-1.211413</td>\n",
       "      <td>-0.818609</td>\n",
       "      <td>...</td>\n",
       "      <td>0.020364</td>\n",
       "      <td>-0.371990</td>\n",
       "      <td>0.068012</td>\n",
       "      <td>0.364064</td>\n",
       "      <td>0.295800</td>\n",
       "      <td>0.240734</td>\n",
       "      <td>0.175072</td>\n",
       "      <td>0.194410</td>\n",
       "      <td>0.629946</td>\n",
       "      <td>0.888814</td>\n",
       "    </tr>\n",
       "    <tr>\n",
       "      <th>1</th>\n",
       "      <td>1.407446</td>\n",
       "      <td>-0.482065</td>\n",
       "      <td>-1.191585</td>\n",
       "      <td>-0.640588</td>\n",
       "      <td>-0.370939</td>\n",
       "      <td>-0.285285</td>\n",
       "      <td>-0.114521</td>\n",
       "      <td>0.374308</td>\n",
       "      <td>1.401205</td>\n",
       "      <td>-0.548694</td>\n",
       "      <td>...</td>\n",
       "      <td>0.163577</td>\n",
       "      <td>-0.243111</td>\n",
       "      <td>0.119742</td>\n",
       "      <td>0.591845</td>\n",
       "      <td>0.132334</td>\n",
       "      <td>0.106905</td>\n",
       "      <td>0.085154</td>\n",
       "      <td>0.091041</td>\n",
       "      <td>0.424330</td>\n",
       "      <td>0.969237</td>\n",
       "    </tr>\n",
       "    <tr>\n",
       "      <th>2</th>\n",
       "      <td>0.504388</td>\n",
       "      <td>-0.191637</td>\n",
       "      <td>-0.326839</td>\n",
       "      <td>-0.051583</td>\n",
       "      <td>0.367481</td>\n",
       "      <td>-0.433281</td>\n",
       "      <td>-1.032905</td>\n",
       "      <td>-0.729178</td>\n",
       "      <td>0.568739</td>\n",
       "      <td>-0.169718</td>\n",
       "      <td>...</td>\n",
       "      <td>-0.607641</td>\n",
       "      <td>-1.382234</td>\n",
       "      <td>0.056902</td>\n",
       "      <td>0.641074</td>\n",
       "      <td>0.128588</td>\n",
       "      <td>0.110184</td>\n",
       "      <td>0.084777</td>\n",
       "      <td>0.093249</td>\n",
       "      <td>0.413360</td>\n",
       "      <td>0.858607</td>\n",
       "    </tr>\n",
       "    <tr>\n",
       "      <th>3</th>\n",
       "      <td>-0.809359</td>\n",
       "      <td>-0.029186</td>\n",
       "      <td>0.724951</td>\n",
       "      <td>-0.059996</td>\n",
       "      <td>0.215291</td>\n",
       "      <td>-0.883476</td>\n",
       "      <td>-0.497487</td>\n",
       "      <td>-0.828787</td>\n",
       "      <td>-0.786812</td>\n",
       "      <td>-0.031437</td>\n",
       "      <td>...</td>\n",
       "      <td>-0.745054</td>\n",
       "      <td>-1.046559</td>\n",
       "      <td>0.055089</td>\n",
       "      <td>0.499889</td>\n",
       "      <td>0.121059</td>\n",
       "      <td>0.106712</td>\n",
       "      <td>0.094706</td>\n",
       "      <td>0.096509</td>\n",
       "      <td>0.423491</td>\n",
       "      <td>0.839178</td>\n",
       "    </tr>\n",
       "    <tr>\n",
       "      <th>4</th>\n",
       "      <td>2.549218</td>\n",
       "      <td>0.238433</td>\n",
       "      <td>-0.676748</td>\n",
       "      <td>-0.264565</td>\n",
       "      <td>-0.165377</td>\n",
       "      <td>-1.099201</td>\n",
       "      <td>0.205287</td>\n",
       "      <td>-0.504998</td>\n",
       "      <td>2.529003</td>\n",
       "      <td>0.036200</td>\n",
       "      <td>...</td>\n",
       "      <td>-0.357170</td>\n",
       "      <td>-0.871289</td>\n",
       "      <td>0.153120</td>\n",
       "      <td>0.616254</td>\n",
       "      <td>0.130205</td>\n",
       "      <td>0.104352</td>\n",
       "      <td>0.078919</td>\n",
       "      <td>0.096780</td>\n",
       "      <td>0.424711</td>\n",
       "      <td>0.935168</td>\n",
       "    </tr>\n",
       "  </tbody>\n",
       "</table>\n",
       "<p>5 rows × 24 columns</p>\n",
       "</div>"
      ],
      "text/plain": [
       "   theta_E____truth  gamma____truth  center_x____truth  center_y____truth  \\\n",
       "0         -1.370978       -0.545854          -1.067575           1.431359   \n",
       "1          1.407446       -0.482065          -1.191585          -0.640588   \n",
       "2          0.504388       -0.191637          -0.326839          -0.051583   \n",
       "3         -0.809359       -0.029186           0.724951          -0.059996   \n",
       "4          2.549218        0.238433          -0.676748          -0.264565   \n",
       "\n",
       "   e1____truth  e2____truth  lens_light_R_sersic____truth  \\\n",
       "0     0.188527    -1.213736                     -0.763033   \n",
       "1    -0.370939    -0.285285                     -0.114521   \n",
       "2     0.367481    -0.433281                     -1.032905   \n",
       "3     0.215291    -0.883476                     -0.497487   \n",
       "4    -0.165377    -1.099201                      0.205287   \n",
       "\n",
       "   lens_light_n_sersic____truth  theta_E____pred  gamma____pred  ...  \\\n",
       "0                     -0.155175        -1.211413      -0.818609  ...   \n",
       "1                      0.374308         1.401205      -0.548694  ...   \n",
       "2                     -0.729178         0.568739      -0.169718  ...   \n",
       "3                     -0.828787        -0.786812      -0.031437  ...   \n",
       "4                     -0.504998         2.529003       0.036200  ...   \n",
       "\n",
       "   lens_light_R_sersic____pred  lens_light_n_sersic____pred  theta_E____sigma  \\\n",
       "0                     0.020364                    -0.371990          0.068012   \n",
       "1                     0.163577                    -0.243111          0.119742   \n",
       "2                    -0.607641                    -1.382234          0.056902   \n",
       "3                    -0.745054                    -1.046559          0.055089   \n",
       "4                    -0.357170                    -0.871289          0.153120   \n",
       "\n",
       "   gamma____sigma  center_x____sigma  center_y____sigma  e1____sigma  \\\n",
       "0        0.364064           0.295800           0.240734     0.175072   \n",
       "1        0.591845           0.132334           0.106905     0.085154   \n",
       "2        0.641074           0.128588           0.110184     0.084777   \n",
       "3        0.499889           0.121059           0.106712     0.094706   \n",
       "4        0.616254           0.130205           0.104352     0.078919   \n",
       "\n",
       "   e2____sigma  lens_light_R_sersic____sigma  lens_light_n_sersic____sigma  \n",
       "0     0.194410                      0.629946                      0.888814  \n",
       "1     0.091041                      0.424330                      0.969237  \n",
       "2     0.093249                      0.413360                      0.858607  \n",
       "3     0.096509                      0.423491                      0.839178  \n",
       "4     0.096780                      0.424711                      0.935168  \n",
       "\n",
       "[5 rows x 24 columns]"
      ]
     },
     "execution_count": 5,
     "metadata": {},
     "output_type": "execute_result"
    }
   ],
   "source": [
    "%pylab inline\n",
    "\n",
    "import pandas as pd\n",
    "import seaborn as sns\n",
    "\n",
    "df = pd.read_csv(f\"{file_name_pred}.csv\")\n",
    "df.head()"
   ]
  },
  {
   "cell_type": "code",
   "execution_count": null,
   "id": "4b3d5666",
   "metadata": {},
   "outputs": [],
   "source": []
  },
  {
   "cell_type": "code",
   "execution_count": null,
   "id": "e92cb9e6",
   "metadata": {},
   "outputs": [],
   "source": []
  }
 ],
 "metadata": {
  "kernelspec": {
   "display_name": "Python 3 (ipykernel)",
   "language": "python",
   "name": "python3"
  },
  "language_info": {
   "codemirror_mode": {
    "name": "ipython",
    "version": 3
   },
   "file_extension": ".py",
   "mimetype": "text/x-python",
   "name": "python",
   "nbconvert_exporter": "python",
   "pygments_lexer": "ipython3",
   "version": "3.8.8"
  }
 },
 "nbformat": 4,
 "nbformat_minor": 5
}
