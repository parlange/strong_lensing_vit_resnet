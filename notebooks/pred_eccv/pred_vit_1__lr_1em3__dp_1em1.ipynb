{
 "cells": [
  {
   "cell_type": "code",
   "execution_count": 1,
   "id": "0770f12c",
   "metadata": {},
   "outputs": [
    {
     "name": "stdout",
     "output_type": "stream",
     "text": [
      "C:\\Users\\abcd2\\OneDrive\\Documents\\GitHub\\strong_lensing_vit_resnet\n"
     ]
    }
   ],
   "source": [
    "cd ../.."
   ]
  },
  {
   "cell_type": "code",
   "execution_count": 2,
   "id": "0fca60c7",
   "metadata": {},
   "outputs": [],
   "source": [
    "import numpy as np\n",
    "\n",
    "from pathlib import Path\n",
    "from predict import ModelPredictor"
   ]
  },
  {
   "cell_type": "code",
   "execution_count": 3,
   "id": "dc32ebb4",
   "metadata": {},
   "outputs": [
    {
     "data": {
      "text/plain": [
       "{'epoch': 100,\n",
       " 'batch_size': 20,\n",
       " 'load_new_model': True,\n",
       " 'new_model_name': 'google/vit-base-patch16-224',\n",
       " 'resumed_model_path': WindowsPath('.'),\n",
       " 'output_folder': WindowsPath('C:/Users/abcd2/Downloads/vit_1__lr_1em3__dp_1em1'),\n",
       " 'dataset_folder': WindowsPath('C:/Users/abcd2/Datasets/2022_icml_lens_sim/geoff_1200'),\n",
       " 'init_learning_rate': 0.001,\n",
       " 'dropout_rate': 0.1,\n",
       " 'target_keys_weights': {'theta_E': 1,\n",
       "  'gamma': 1,\n",
       "  'center_x': 1,\n",
       "  'center_y': 1,\n",
       "  'e1': 1,\n",
       "  'e2': 1,\n",
       "  'lens_light_R_sersic': 1,\n",
       "  'lens_light_n_sersic': 1}}"
      ]
     },
     "execution_count": 3,
     "metadata": {},
     "output_type": "execute_result"
    }
   ],
   "source": [
    "dir_output = Path(\"C:/Users/abcd2/Downloads/vit_1__lr_1em3__dp_1em1\")\n",
    "path_config = Path(f\"{dir_output}/CONFIG.npy\")\n",
    "path_model = Path(f\"{dir_output}/epoch_17_testloss_0.222014.mdl\")\n",
    "file_name_pred = \"pred_scaled\"\n",
    "\n",
    "\n",
    "CONFIG = np.load(path_config, allow_pickle=True).item()\n",
    "CONFIG[\"dataset_folder\"] = Path(\"C:/Users/abcd2/Datasets/2022_icml_lens_sim/geoff_1200\")\n",
    "\n",
    "CONFIG"
   ]
  },
  {
   "cell_type": "code",
   "execution_count": 4,
   "id": "d8e0ac40",
   "metadata": {},
   "outputs": [
    {
     "name": "stdout",
     "output_type": "stream",
     "text": [
      "Number of test samples = 1200\n",
      " \n",
      "Use device = cuda:0\n",
      "\n",
      "Start predicting\n",
      "\n"
     ]
    },
    {
     "name": "stderr",
     "output_type": "stream",
     "text": [
      "100%|██████████████████████████████████████████████████████████████████████████████████| 60/60 [00:16<00:00,  3.61it/s]"
     ]
    },
    {
     "name": "stdout",
     "output_type": "stream",
     "text": [
      "Done :)\n",
      "\n"
     ]
    },
    {
     "name": "stderr",
     "output_type": "stream",
     "text": [
      "\n"
     ]
    },
    {
     "data": {
      "text/plain": [
       "<predict.ModelPredictor at 0x1d5ddfa1ca0>"
      ]
     },
     "execution_count": 4,
     "metadata": {},
     "output_type": "execute_result"
    }
   ],
   "source": [
    "ModelPredictor(CONFIG, path_model, file_name_pred)"
   ]
  },
  {
   "cell_type": "code",
   "execution_count": null,
   "id": "85168fb1",
   "metadata": {},
   "outputs": [],
   "source": []
  },
  {
   "cell_type": "code",
   "execution_count": 23,
   "id": "2896ad52",
   "metadata": {},
   "outputs": [
    {
     "name": "stdout",
     "output_type": "stream",
     "text": [
      "Populating the interactive namespace from numpy and matplotlib\n"
     ]
    },
    {
     "data": {
      "text/html": [
       "<div>\n",
       "<style scoped>\n",
       "    .dataframe tbody tr th:only-of-type {\n",
       "        vertical-align: middle;\n",
       "    }\n",
       "\n",
       "    .dataframe tbody tr th {\n",
       "        vertical-align: top;\n",
       "    }\n",
       "\n",
       "    .dataframe thead th {\n",
       "        text-align: right;\n",
       "    }\n",
       "</style>\n",
       "<table border=\"1\" class=\"dataframe\">\n",
       "  <thead>\n",
       "    <tr style=\"text-align: right;\">\n",
       "      <th></th>\n",
       "      <th>theta_E____truth</th>\n",
       "      <th>gamma____truth</th>\n",
       "      <th>center_x____truth</th>\n",
       "      <th>center_y____truth</th>\n",
       "      <th>e1____truth</th>\n",
       "      <th>e2____truth</th>\n",
       "      <th>lens_light_R_sersic____truth</th>\n",
       "      <th>lens_light_n_sersic____truth</th>\n",
       "      <th>theta_E____pred</th>\n",
       "      <th>gamma____pred</th>\n",
       "      <th>...</th>\n",
       "      <th>lens_light_R_sersic____pred</th>\n",
       "      <th>lens_light_n_sersic____pred</th>\n",
       "      <th>theta_E____sigma</th>\n",
       "      <th>gamma____sigma</th>\n",
       "      <th>center_x____sigma</th>\n",
       "      <th>center_y____sigma</th>\n",
       "      <th>e1____sigma</th>\n",
       "      <th>e2____sigma</th>\n",
       "      <th>lens_light_R_sersic____sigma</th>\n",
       "      <th>lens_light_n_sersic____sigma</th>\n",
       "    </tr>\n",
       "  </thead>\n",
       "  <tbody>\n",
       "    <tr>\n",
       "      <th>0</th>\n",
       "      <td>-1.370978</td>\n",
       "      <td>-0.545854</td>\n",
       "      <td>-1.067575</td>\n",
       "      <td>1.431359</td>\n",
       "      <td>0.188527</td>\n",
       "      <td>-1.213736</td>\n",
       "      <td>-0.763033</td>\n",
       "      <td>-0.155175</td>\n",
       "      <td>-1.099955</td>\n",
       "      <td>-0.091718</td>\n",
       "      <td>...</td>\n",
       "      <td>-0.461392</td>\n",
       "      <td>-0.448933</td>\n",
       "      <td>0.098717</td>\n",
       "      <td>0.712212</td>\n",
       "      <td>0.290182</td>\n",
       "      <td>0.229743</td>\n",
       "      <td>0.183278</td>\n",
       "      <td>0.193939</td>\n",
       "      <td>0.660057</td>\n",
       "      <td>1.049623</td>\n",
       "    </tr>\n",
       "    <tr>\n",
       "      <th>1</th>\n",
       "      <td>1.407446</td>\n",
       "      <td>-0.482065</td>\n",
       "      <td>-1.191585</td>\n",
       "      <td>-0.640588</td>\n",
       "      <td>-0.370939</td>\n",
       "      <td>-0.285285</td>\n",
       "      <td>-0.114521</td>\n",
       "      <td>0.374308</td>\n",
       "      <td>1.339431</td>\n",
       "      <td>-0.423130</td>\n",
       "      <td>...</td>\n",
       "      <td>-0.083442</td>\n",
       "      <td>-0.248424</td>\n",
       "      <td>0.139721</td>\n",
       "      <td>0.502434</td>\n",
       "      <td>0.124917</td>\n",
       "      <td>0.105719</td>\n",
       "      <td>0.095989</td>\n",
       "      <td>0.090818</td>\n",
       "      <td>0.458542</td>\n",
       "      <td>0.917335</td>\n",
       "    </tr>\n",
       "    <tr>\n",
       "      <th>2</th>\n",
       "      <td>0.504388</td>\n",
       "      <td>-0.191637</td>\n",
       "      <td>-0.326839</td>\n",
       "      <td>-0.051583</td>\n",
       "      <td>0.367481</td>\n",
       "      <td>-0.433281</td>\n",
       "      <td>-1.032905</td>\n",
       "      <td>-0.729178</td>\n",
       "      <td>0.644534</td>\n",
       "      <td>-0.443680</td>\n",
       "      <td>...</td>\n",
       "      <td>-1.132365</td>\n",
       "      <td>-0.376187</td>\n",
       "      <td>0.075035</td>\n",
       "      <td>0.518629</td>\n",
       "      <td>0.136492</td>\n",
       "      <td>0.109814</td>\n",
       "      <td>0.091143</td>\n",
       "      <td>0.094548</td>\n",
       "      <td>0.446643</td>\n",
       "      <td>0.939323</td>\n",
       "    </tr>\n",
       "    <tr>\n",
       "      <th>3</th>\n",
       "      <td>-0.809359</td>\n",
       "      <td>-0.029186</td>\n",
       "      <td>0.724951</td>\n",
       "      <td>-0.059996</td>\n",
       "      <td>0.215291</td>\n",
       "      <td>-0.883476</td>\n",
       "      <td>-0.497487</td>\n",
       "      <td>-0.828787</td>\n",
       "      <td>-0.694959</td>\n",
       "      <td>0.839575</td>\n",
       "      <td>...</td>\n",
       "      <td>-0.896015</td>\n",
       "      <td>-0.260482</td>\n",
       "      <td>0.075131</td>\n",
       "      <td>0.850328</td>\n",
       "      <td>0.153316</td>\n",
       "      <td>0.121790</td>\n",
       "      <td>0.114748</td>\n",
       "      <td>0.113460</td>\n",
       "      <td>0.512634</td>\n",
       "      <td>0.993310</td>\n",
       "    </tr>\n",
       "    <tr>\n",
       "      <th>4</th>\n",
       "      <td>2.549218</td>\n",
       "      <td>0.238433</td>\n",
       "      <td>-0.676748</td>\n",
       "      <td>-0.264565</td>\n",
       "      <td>-0.165377</td>\n",
       "      <td>-1.099201</td>\n",
       "      <td>0.205287</td>\n",
       "      <td>-0.504998</td>\n",
       "      <td>2.786195</td>\n",
       "      <td>0.301800</td>\n",
       "      <td>...</td>\n",
       "      <td>-0.598101</td>\n",
       "      <td>-0.242166</td>\n",
       "      <td>0.246993</td>\n",
       "      <td>0.639364</td>\n",
       "      <td>0.132003</td>\n",
       "      <td>0.117613</td>\n",
       "      <td>0.105240</td>\n",
       "      <td>0.102016</td>\n",
       "      <td>0.523375</td>\n",
       "      <td>0.965760</td>\n",
       "    </tr>\n",
       "  </tbody>\n",
       "</table>\n",
       "<p>5 rows × 24 columns</p>\n",
       "</div>"
      ],
      "text/plain": [
       "   theta_E____truth  gamma____truth  center_x____truth  center_y____truth  \\\n",
       "0         -1.370978       -0.545854          -1.067575           1.431359   \n",
       "1          1.407446       -0.482065          -1.191585          -0.640588   \n",
       "2          0.504388       -0.191637          -0.326839          -0.051583   \n",
       "3         -0.809359       -0.029186           0.724951          -0.059996   \n",
       "4          2.549218        0.238433          -0.676748          -0.264565   \n",
       "\n",
       "   e1____truth  e2____truth  lens_light_R_sersic____truth  \\\n",
       "0     0.188527    -1.213736                     -0.763033   \n",
       "1    -0.370939    -0.285285                     -0.114521   \n",
       "2     0.367481    -0.433281                     -1.032905   \n",
       "3     0.215291    -0.883476                     -0.497487   \n",
       "4    -0.165377    -1.099201                      0.205287   \n",
       "\n",
       "   lens_light_n_sersic____truth  theta_E____pred  gamma____pred  ...  \\\n",
       "0                     -0.155175        -1.099955      -0.091718  ...   \n",
       "1                      0.374308         1.339431      -0.423130  ...   \n",
       "2                     -0.729178         0.644534      -0.443680  ...   \n",
       "3                     -0.828787        -0.694959       0.839575  ...   \n",
       "4                     -0.504998         2.786195       0.301800  ...   \n",
       "\n",
       "   lens_light_R_sersic____pred  lens_light_n_sersic____pred  theta_E____sigma  \\\n",
       "0                    -0.461392                    -0.448933          0.098717   \n",
       "1                    -0.083442                    -0.248424          0.139721   \n",
       "2                    -1.132365                    -0.376187          0.075035   \n",
       "3                    -0.896015                    -0.260482          0.075131   \n",
       "4                    -0.598101                    -0.242166          0.246993   \n",
       "\n",
       "   gamma____sigma  center_x____sigma  center_y____sigma  e1____sigma  \\\n",
       "0        0.712212           0.290182           0.229743     0.183278   \n",
       "1        0.502434           0.124917           0.105719     0.095989   \n",
       "2        0.518629           0.136492           0.109814     0.091143   \n",
       "3        0.850328           0.153316           0.121790     0.114748   \n",
       "4        0.639364           0.132003           0.117613     0.105240   \n",
       "\n",
       "   e2____sigma  lens_light_R_sersic____sigma  lens_light_n_sersic____sigma  \n",
       "0     0.193939                      0.660057                      1.049623  \n",
       "1     0.090818                      0.458542                      0.917335  \n",
       "2     0.094548                      0.446643                      0.939323  \n",
       "3     0.113460                      0.512634                      0.993310  \n",
       "4     0.102016                      0.523375                      0.965760  \n",
       "\n",
       "[5 rows x 24 columns]"
      ]
     },
     "execution_count": 23,
     "metadata": {},
     "output_type": "execute_result"
    }
   ],
   "source": [
    "%pylab inline\n",
    "\n",
    "import pandas as pd\n",
    "import seaborn as sns\n",
    "\n",
    "df = pd.read_csv(f\"{file_name_pred}.csv\")\n",
    "df.head()"
   ]
  },
  {
   "cell_type": "code",
   "execution_count": null,
   "id": "4b3d5666",
   "metadata": {},
   "outputs": [],
   "source": []
  },
  {
   "cell_type": "code",
   "execution_count": null,
   "id": "e92cb9e6",
   "metadata": {},
   "outputs": [],
   "source": []
  }
 ],
 "metadata": {
  "kernelspec": {
   "display_name": "Python 3 (ipykernel)",
   "language": "python",
   "name": "python3"
  },
  "language_info": {
   "codemirror_mode": {
    "name": "ipython",
    "version": 3
   },
   "file_extension": ".py",
   "mimetype": "text/x-python",
   "name": "python",
   "nbconvert_exporter": "python",
   "pygments_lexer": "ipython3",
   "version": "3.8.8"
  }
 },
 "nbformat": 4,
 "nbformat_minor": 5
}
