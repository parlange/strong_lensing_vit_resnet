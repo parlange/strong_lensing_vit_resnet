{
 "cells": [
  {
   "cell_type": "code",
   "execution_count": 1,
   "id": "0770f12c",
   "metadata": {},
   "outputs": [
    {
     "name": "stdout",
     "output_type": "stream",
     "text": [
      "C:\\Users\\abcd2\\OneDrive\\Documents\\GitHub\\strong_lensing_vit_resnet\n"
     ]
    }
   ],
   "source": [
    "cd ../.."
   ]
  },
  {
   "cell_type": "code",
   "execution_count": 2,
   "id": "0fca60c7",
   "metadata": {},
   "outputs": [],
   "source": [
    "from pathlib import Path\n",
    "from predict import ModelPredictor"
   ]
  },
  {
   "cell_type": "code",
   "execution_count": 3,
   "id": "dc32ebb4",
   "metadata": {},
   "outputs": [
    {
     "name": "stdout",
     "output_type": "stream",
     "text": [
      "{'epoch': 100, 'batch_size': 10, 'load_new_model': True, 'new_model_name': 'google/vit-base-patch16-224', 'resumed_model_path': WindowsPath('.'), 'output_folder': WindowsPath('C:/Users/abcd2/Downloads/vit_1__lr_1em3__dp_1em1__no_dp_attn'), 'dataset_folder': WindowsPath('C:/Users/abcd2/Datasets/2022_icml_lens_sim/geoff_1200'), 'init_learning_rate': 0.001, 'dropout_rate': 0.1, 'vit_attention_dropout_rate': 0.0, 'target_keys_weights': {'theta_E': 1, 'gamma': 1, 'center_x': 1, 'center_y': 1, 'e1': 1, 'e2': 1, 'lens_light_R_sersic': 1, 'lens_light_n_sersic': 1}}\n",
      "Number of test samples = 1200\n",
      " \n",
      "Use device = cuda:0\n",
      "\n",
      "Start predicting\n",
      "\n"
     ]
    },
    {
     "name": "stderr",
     "output_type": "stream",
     "text": [
      "100%|████████████████████████████████████████████████████████████████████████████████| 120/120 [00:23<00:00,  5.21it/s]\n"
     ]
    },
    {
     "name": "stdout",
     "output_type": "stream",
     "text": [
      "Saved pred_scaled.csv to C:\\Users\\abcd2\\Dropbox\\eccv_saved_models\\vit_1__lr_1em3__dp_1em1__no_dp_attn\\pred_scaled.csv \n",
      "\n",
      "Start scaling pred_scaled.csv back\n",
      "\n",
      "Scaled back and saved pred.csv to C:\\Users\\abcd2\\Dropbox\\eccv_saved_models\\vit_1__lr_1em3__dp_1em1__no_dp_attn\\pred.csv \n",
      "\n"
     ]
    }
   ],
   "source": [
    "dir_output = Path(\"C:/Users/abcd2/Dropbox/eccv_saved_models/vit_1__lr_1em3__dp_1em1__no_dp_attn\")\n",
    "path_model = Path(f\"{dir_output}/epoch_41_testloss_0.200887.mdl\")\n",
    "\n",
    "mp = ModelPredictor(dir_output, path_model)\n",
    "mp.execute()\n",
    "mp.scale_back()"
   ]
  },
  {
   "cell_type": "code",
   "execution_count": 4,
   "id": "d8e0ac40",
   "metadata": {},
   "outputs": [
    {
     "name": "stdout",
     "output_type": "stream",
     "text": [
      "{'epoch': 100, 'batch_size': 10, 'load_new_model': True, 'new_model_name': 'google/vit-base-patch16-224', 'resumed_model_path': WindowsPath('.'), 'output_folder': WindowsPath('C:/Users/abcd2/Downloads/vit_1__lr_1em3__dp_1em1'), 'dataset_folder': WindowsPath('C:/Users/abcd2/Datasets/2022_icml_lens_sim/geoff_1200'), 'init_learning_rate': 0.001, 'dropout_rate': 0.1, 'target_keys_weights': {'theta_E': 1, 'gamma': 1, 'center_x': 1, 'center_y': 1, 'e1': 1, 'e2': 1, 'lens_light_R_sersic': 1, 'lens_light_n_sersic': 1}}\n",
      "Number of test samples = 1200\n",
      " \n",
      "Use device = cuda:0\n",
      "\n",
      "Start predicting\n",
      "\n"
     ]
    },
    {
     "name": "stderr",
     "output_type": "stream",
     "text": [
      "100%|████████████████████████████████████████████████████████████████████████████████| 120/120 [00:13<00:00,  8.62it/s]"
     ]
    },
    {
     "name": "stdout",
     "output_type": "stream",
     "text": [
      "Saved pred_scaled.csv to C:\\Users\\abcd2\\Dropbox\\eccv_saved_models\\vit_1__lr_1em3__dp_1em1\\pred_scaled.csv \n",
      "\n",
      "Start scaling pred_scaled.csv back\n",
      "\n",
      "Scaled back and saved pred.csv to C:\\Users\\abcd2\\Dropbox\\eccv_saved_models\\vit_1__lr_1em3__dp_1em1\\pred.csv \n",
      "\n"
     ]
    },
    {
     "name": "stderr",
     "output_type": "stream",
     "text": [
      "\n"
     ]
    }
   ],
   "source": [
    "dir_output = Path(\"C:/Users/abcd2/Dropbox/eccv_saved_models/vit_1__lr_1em3__dp_1em1\")\n",
    "path_model = Path(f\"{dir_output}/epoch_17_testloss_0.222014.mdl\")\n",
    "\n",
    "mp = ModelPredictor(dir_output, path_model)\n",
    "mp.execute()\n",
    "mp.scale_back()"
   ]
  },
  {
   "cell_type": "code",
   "execution_count": 5,
   "id": "85168fb1",
   "metadata": {},
   "outputs": [
    {
     "name": "stdout",
     "output_type": "stream",
     "text": [
      "{'epoch': 100, 'batch_size': 10, 'load_new_model': True, 'new_model_name': 'resnet152', 'resumed_model_path': WindowsPath('.'), 'output_folder': WindowsPath('C:/Users/abcd2/Downloads/resnet152_1__lr_1em3__dp_1em1'), 'dataset_folder': WindowsPath('C:/Users/abcd2/Datasets/2022_icml_lens_sim/geoff_1200'), 'init_learning_rate': 0.001, 'dropout_rate': 0.1, 'target_keys_weights': {'theta_E': 1, 'gamma': 1, 'center_x': 1, 'center_y': 1, 'e1': 1, 'e2': 1, 'lens_light_R_sersic': 1, 'lens_light_n_sersic': 1}}\n",
      "Number of test samples = 1200\n",
      " \n",
      "Use device = cuda:0\n",
      "\n",
      "Start predicting\n",
      "\n"
     ]
    },
    {
     "name": "stderr",
     "output_type": "stream",
     "text": [
      "100%|████████████████████████████████████████████████████████████████████████████████| 120/120 [00:11<00:00, 10.56it/s]"
     ]
    },
    {
     "name": "stdout",
     "output_type": "stream",
     "text": [
      "Saved pred_scaled.csv to C:\\Users\\abcd2\\Dropbox\\eccv_saved_models\\resnet152_1__lr_1em3__dp_1em1\\pred_scaled.csv \n",
      "\n",
      "Start scaling pred_scaled.csv back\n",
      "\n",
      "Scaled back and saved pred.csv to C:\\Users\\abcd2\\Dropbox\\eccv_saved_models\\resnet152_1__lr_1em3__dp_1em1\\pred.csv \n",
      "\n"
     ]
    },
    {
     "name": "stderr",
     "output_type": "stream",
     "text": [
      "\n"
     ]
    }
   ],
   "source": [
    "dir_output = Path(\"C:/Users/abcd2/Dropbox/eccv_saved_models/resnet152_1__lr_1em3__dp_1em1\")\n",
    "path_model = Path(f\"{dir_output}/epoch_51_testloss_0.483049.mdl\")\n",
    "\n",
    "mp = ModelPredictor(dir_output, path_model)\n",
    "mp.execute()\n",
    "mp.scale_back()"
   ]
  },
  {
   "cell_type": "code",
   "execution_count": null,
   "id": "4b3d5666",
   "metadata": {},
   "outputs": [],
   "source": []
  },
  {
   "cell_type": "code",
   "execution_count": null,
   "id": "e92cb9e6",
   "metadata": {},
   "outputs": [],
   "source": []
  }
 ],
 "metadata": {
  "kernelspec": {
   "display_name": "Python 3 (ipykernel)",
   "language": "python",
   "name": "python3"
  },
  "language_info": {
   "codemirror_mode": {
    "name": "ipython",
    "version": 3
   },
   "file_extension": ".py",
   "mimetype": "text/x-python",
   "name": "python",
   "nbconvert_exporter": "python",
   "pygments_lexer": "ipython3",
   "version": "3.8.8"
  }
 },
 "nbformat": 4,
 "nbformat_minor": 5
}
